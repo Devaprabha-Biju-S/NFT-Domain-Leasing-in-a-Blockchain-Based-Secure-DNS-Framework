{
 "cells": [
  {
   "cell_type": "code",
   "execution_count": 3,
   "id": "d974cbe2-a894-465d-af18-98e1ae99b148",
   "metadata": {},
   "outputs": [],
   "source": [
    "import hashlib   # Imports the hashlib module to perform SHA-256 hashing\n",
    "import json      # Imports json to format and print data in JSON format\n",
    "import time      # Imports time to use the current timestamp for blocks\n",
    "\n",
    "# Define a class to represent each block in the blockchain\n",
    "class Block:\n",
    "    # Constructor method to initialize block attributes\n",
    "    def __init__(self, index, domain, ip_address, timestamp, previous_hash):\n",
    "        self.index = index                     # Position of the block in the chain\n",
    "        self.domain = domain                   # Domain name stored in the block\n",
    "        self.ip_address = ip_address           # IP address linked to the domain\n",
    "        self.timestamp = timestamp             # Time when the block was created\n",
    "        self.previous_hash = previous_hash     # Hash of the previous block\n",
    "        self.hash = self.calculate_hash()      # Hash of the current block, calculated at creation\n",
    "\n",
    "    # Method to calculate the SHA-256 hash of the block's contents\n",
    "    def calculate_hash(self):\n",
    "        # Concatenate all block attributes into a string\n",
    "        block_string = f\"{self.index}{self.domain}{self.ip_address}{self.timestamp}{self.previous_hash}\"\n",
    "        # Return the SHA-256 hash of the string\n",
    "        return hashlib.sha256(block_string.encode()).hexdigest()\n",
    "\n",
    "    # Convert block data to a dictionary format (useful for JSON output)\n",
    "    def to_dict(self):\n",
    "        return {\n",
    "            'index': self.index,\n",
    "            'domain': self.domain,\n",
    "            'ip_address': self.ip_address,\n",
    "            'timestamp': self.timestamp,\n",
    "            'previous_hash': self.previous_hash,\n",
    "            'hash': self.hash\n",
    "        }\n",
    "\n",
    "# Define a class to manage the blockchain (a list of blocks)\n",
    "class Blockchain:\n",
    "    # Constructor initializes the chain with the genesis block\n",
    "    def __init__(self):\n",
    "        self.chain = []                # List to store the blocks\n",
    "        self.create_genesis_block()    # Call to create the first block in the chain\n",
    "\n",
    "    # Method to create the first block manually (hardcoded data)\n",
    "    def create_genesis_block(self):\n",
    "        genesis_block = Block(0, \"genesis\", \"0.0.0.0\", time.time(), \"0\")  # Create genesis block with fixed data\n",
    "        self.chain.append(genesis_block)                                  # Add it to the chain\n",
    "\n",
    "    # Method to add a new block to the chain\n",
    "    def add_block(self, domain, ip_address):\n",
    "        last_block = self.chain[-1]   # Get the most recent block\n",
    "        # Create a new block with the next index, domain, IP, timestamp, and previous hash\n",
    "        new_block = Block(len(self.chain), domain, ip_address, time.time(), last_block.hash)\n",
    "        self.chain.append(new_block)  # Append the new block to the chain\n",
    "        insert_block(new_block)       # Call external function to insert block (assumed defined elsewhere)\n",
    "\n",
    "    # Method to validate the integrity of the entire chain\n",
    "    def is_chain_valid(self):\n",
    "        for i in range(1, len(self.chain)):               # Loop through all blocks except genesis\n",
    "            curr = self.chain[i]                          # Current block\n",
    "            prev = self.chain[i - 1]                      # Previous block\n",
    "            if curr.hash != curr.calculate_hash():        # Recalculate hash and compare\n",
    "                return False\n",
    "            if curr.previous_hash != prev.hash:           # Check hash linkage between blocks\n",
    "                return False\n",
    "        return True                                       # If all checks pass, the chain is valid\n",
    "\n",
    "    # Method to print the entire blockchain in JSON format\n",
    "    def print_chain(self):\n",
    "        for block in self.chain:\n",
    "            print(json.dumps(block.to_dict(), indent=4))  # Print block dictionary nicely formatted\n"
   ]
  },
  {
   "cell_type": "code",
   "execution_count": 4,
   "id": "4be388ef-b742-44fc-bc2f-e6429674090d",
   "metadata": {},
   "outputs": [
    {
     "ename": "NameError",
     "evalue": "name 'insert_block' is not defined",
     "output_type": "error",
     "traceback": [
      "\u001b[0;31m---------------------------------------------------------------------------\u001b[0m",
      "\u001b[0;31mNameError\u001b[0m                                 Traceback (most recent call last)",
      "Cell \u001b[0;32mIn[4], line 5\u001b[0m\n\u001b[1;32m      1\u001b[0m bc \u001b[38;5;241m=\u001b[39m Blockchain()  \n\u001b[1;32m      2\u001b[0m \u001b[38;5;66;03m# Creates a new instance of the Blockchain class\u001b[39;00m\n\u001b[1;32m      3\u001b[0m \u001b[38;5;66;03m# This automatically creates and appends the genesis block to the chain\u001b[39;00m\n\u001b[0;32m----> 5\u001b[0m bc\u001b[38;5;241m.\u001b[39madd_block(\u001b[38;5;124m\"\u001b[39m\u001b[38;5;124mexample.com\u001b[39m\u001b[38;5;124m\"\u001b[39m, \u001b[38;5;124m\"\u001b[39m\u001b[38;5;124m192.168.1.5\u001b[39m\u001b[38;5;124m\"\u001b[39m)  \n\u001b[1;32m      6\u001b[0m \u001b[38;5;66;03m# Adds a new block to the blockchain with domain \"example.com\" and IP \"192.168.1.5\"\u001b[39;00m\n\u001b[1;32m      7\u001b[0m \u001b[38;5;66;03m# It calculates the new block’s hash, links it to the last block, and calls insert_block()\u001b[39;00m\n\u001b[1;32m      9\u001b[0m bc\u001b[38;5;241m.\u001b[39madd_block(\u001b[38;5;124m\"\u001b[39m\u001b[38;5;124mopenai.com\u001b[39m\u001b[38;5;124m\"\u001b[39m, \u001b[38;5;124m\"\u001b[39m\u001b[38;5;124m10.0.0.1\u001b[39m\u001b[38;5;124m\"\u001b[39m)  \n",
      "Cell \u001b[0;32mIn[3], line 52\u001b[0m, in \u001b[0;36mBlockchain.add_block\u001b[0;34m(self, domain, ip_address)\u001b[0m\n\u001b[1;32m     50\u001b[0m new_block \u001b[38;5;241m=\u001b[39m Block(\u001b[38;5;28mlen\u001b[39m(\u001b[38;5;28mself\u001b[39m\u001b[38;5;241m.\u001b[39mchain), domain, ip_address, time\u001b[38;5;241m.\u001b[39mtime(), last_block\u001b[38;5;241m.\u001b[39mhash)\n\u001b[1;32m     51\u001b[0m \u001b[38;5;28mself\u001b[39m\u001b[38;5;241m.\u001b[39mchain\u001b[38;5;241m.\u001b[39mappend(new_block)  \u001b[38;5;66;03m# Append the new block to the chain\u001b[39;00m\n\u001b[0;32m---> 52\u001b[0m insert_block(new_block)\n",
      "\u001b[0;31mNameError\u001b[0m: name 'insert_block' is not defined"
     ]
    }
   ],
   "source": [
    "bc = Blockchain()  \n",
    "# Creates a new instance of the Blockchain class\n",
    "# This automatically creates and appends the genesis block to the chain\n",
    "\n",
    "bc.add_block(\"example.com\", \"192.168.1.5\")  \n",
    "# Adds a new block to the blockchain with domain \"example.com\" and IP \"192.168.1.5\"\n",
    "# It calculates the new block’s hash, links it to the last block, and calls insert_block()\n",
    "\n",
    "bc.add_block(\"openai.com\", \"10.0.0.1\")  \n",
    "# Adds another new block with domain \"openai.com\" and IP \"10.0.0.1\"\n",
    "# This block links to the one added just before it\n",
    "\n",
    "bc.print_chain()  \n",
    "# Prints out all the blocks in the blockchain in a formatted JSON view\n",
    "# Each block shows: index, domain, IP address, timestamp, previous hash, and current hash"
   ]
  },
  {
   "cell_type": "code",
   "execution_count": null,
   "id": "2d7c6212-c181-44e2-aa59-42e46ddea621",
   "metadata": {},
   "outputs": [],
   "source": [
    "def init_db():\n",
    "    conn = sqlite3.connect(\"dns_blockchain.db\")  \n",
    "    # Connects to (or creates) an SQLite database file named \"dns_blockchain.db\"\n",
    "\n",
    "    c = conn.cursor()  \n",
    "    # Creates a cursor object to execute SQL commands\n",
    "\n",
    "    c.execute('''CREATE TABLE IF NOT EXISTS blocks (\n",
    "        index_no INTEGER,\n",
    "        domain TEXT,\n",
    "        ip_address TEXT,\n",
    "        timestamp REAL,\n",
    "        previous_hash TEXT,\n",
    "        hash TEXT\n",
    "    )''')  \n",
    "    # Creates a table called `blocks` if it doesn't already exist\n",
    "    # with columns for all block attributes\n",
    "\n",
    "    conn.commit()  \n",
    "    # Saves the changes to the database\n",
    "\n",
    "    conn.close()  \n",
    "    # Closes the database connection\n"
   ]
  },
  {
   "cell_type": "code",
   "execution_count": null,
   "id": "7e4fe7c9-a744-4f34-af2d-2bd0e4e22e54",
   "metadata": {},
   "outputs": [],
   "source": [
    "init_db()    # Step 1: Initialize the database and table\n",
    "\n",
    "bc = Blockchain()    # Step 2: Create a new blockchain (includes genesis block)\n",
    "\n",
    "bc.add_block(\"example.com\", \"192.168.1.5\")   # Step 3: Add first custom block\n",
    "bc.add_block(\"openai.com\", \"10.0.0.1\")       # Step 4: Add second custom block\n",
    "\n",
    "bc.print_chain()     # Step 5: Print all blocks in the chain\n"
   ]
  },
  {
   "cell_type": "code",
   "execution_count": null,
   "id": "9573579d-4374-4c0f-bef9-6ba5b5bf71ff",
   "metadata": {},
   "outputs": [],
   "source": [
    "conn = sqlite3.connect(\"dns_blockchain.db\")  \n",
    "# Connects to the SQLite database file named \"dns_blockchain.db\"\n",
    "# If the file doesn't exist, it will be created\n",
    "\n",
    "c = conn.cursor()  \n",
    "# Creates a cursor object to execute SQL queries\n",
    "\n",
    "for row in c.execute(\"SELECT * FROM blocks\"):  \n",
    "    # Executes a SQL SELECT query to fetch all rows from the \"blocks\" table\n",
    "    # Loops through each row returned by the query\n",
    "    print(row)  \n",
    "    # Prints the row to the console (each row is a tuple of block data)\n",
    "\n",
    "conn.close()  \n",
    "# Closes the database connection"
   ]
  },
  {
   "cell_type": "code",
   "execution_count": null,
   "id": "1e6ca70b-ce9e-4f80-bb04-70375433a23d",
   "metadata": {},
   "outputs": [],
   "source": [
    "def resolve_domain(domain_name):\n",
    "    conn = sqlite3.connect(\"dns_blockchain.db\")  \n",
    "    # Connect to the SQLite database named \"dns_blockchain.db\"\n",
    "\n",
    "    c = conn.cursor()  \n",
    "    # Create a cursor object to execute SQL commands\n",
    "\n",
    "    c.execute(\"SELECT ip_address, timestamp FROM blocks WHERE domain = ?\", (domain_name,))  \n",
    "    # Use a parameterized query to fetch IP and timestamp for the given domain\n",
    "    # Prevents SQL injection attacks\n",
    "\n",
    "    result = c.fetchone()  \n",
    "    # Fetch the first matching result (returns None if no match found)\n",
    "\n",
    "    conn.close()  \n",
    "    # Close the database connection\n",
    "\n",
    "    if result:\n",
    "        ip, ts = result  \n",
    "        # Unpack the tuple into IP address and timestamp\n",
    "        print(f\"Domain: {domain_name}\\nIP Address: {ip}\\nRegistered At: {time.ctime(ts)}\")  \n",
    "        # Print the domain resolution result in a user-friendly format\n",
    "    else:\n",
    "        print(\"Domain not found in the blockchain.\")  \n",
    "        # Print this message if the domain does not exist in the DB\n"
   ]
  },
  {
   "cell_type": "code",
   "execution_count": 10,
   "id": "ba3b73a2-0a32-46a3-9cfa-f1a57109cd56",
   "metadata": {},
   "outputs": [
    {
     "ename": "NameError",
     "evalue": "name 'resolve_domain' is not defined",
     "output_type": "error",
     "traceback": [
      "\u001b[0;31m---------------------------------------------------------------------------\u001b[0m",
      "\u001b[0;31mNameError\u001b[0m                                 Traceback (most recent call last)",
      "Cell \u001b[0;32mIn[10], line 1\u001b[0m\n\u001b[0;32m----> 1\u001b[0m resolve_domain(\u001b[38;5;124m\"\u001b[39m\u001b[38;5;124mnotexist.com\u001b[39m\u001b[38;5;124m\"\u001b[39m)\n",
      "\u001b[0;31mNameError\u001b[0m: name 'resolve_domain' is not defined"
     ]
    }
   ],
   "source": [
    "resolve_domain(\"notexist.com\")\n"
   ]
  },
  {
   "cell_type": "code",
   "execution_count": 29,
   "id": "a89a41c0-fc1b-4712-b54e-681953d031c4",
   "metadata": {},
   "outputs": [
    {
     "name": "stdout",
     "output_type": "stream",
     "text": [
      "Domain: example.com\n",
      "IP Address: 192.168.1.5\n",
      "Registered At: Tue May 20 15:18:23 2025\n"
     ]
    }
   ],
   "source": [
    "resolve_domain(\"example.com\")\n"
   ]
  },
  {
   "cell_type": "code",
   "execution_count": 31,
   "id": "c6ad2926-4df4-42a6-b176-dfa00fcdc187",
   "metadata": {},
   "outputs": [],
   "source": [
    "def show_all_domains():\n",
    "    conn = sqlite3.connect(\"dns_blockchain.db\")\n",
    "    c = conn.cursor()\n",
    "    for row in c.execute(\"SELECT domain, ip_address FROM blocks\"):\n",
    "        print(f\"{row[0]} → {row[1]}\")\n",
    "    conn.close()\n"
   ]
  },
  {
   "cell_type": "code",
   "execution_count": 33,
   "id": "d48f0c06-22b4-444e-bb8a-e77d87d1d5e2",
   "metadata": {},
   "outputs": [
    {
     "name": "stdout",
     "output_type": "stream",
     "text": [
      "example.com → 192.168.1.5\n",
      "openai.com → 10.0.0.1\n"
     ]
    }
   ],
   "source": [
    "show_all_domains()\n"
   ]
  },
  {
   "cell_type": "code",
   "execution_count": null,
   "id": "9af18e25-5e48-4392-bd89-444f6536567d",
   "metadata": {},
   "outputs": [],
   "source": []
  }
 ],
 "metadata": {
  "kernelspec": {
   "display_name": "Python 3 (ipykernel)",
   "language": "python",
   "name": "python3"
  },
  "language_info": {
   "codemirror_mode": {
    "name": "ipython",
    "version": 3
   },
   "file_extension": ".py",
   "mimetype": "text/x-python",
   "name": "python",
   "nbconvert_exporter": "python",
   "pygments_lexer": "ipython3",
   "version": "3.12.4"
  }
 },
 "nbformat": 4,
 "nbformat_minor": 5
}
